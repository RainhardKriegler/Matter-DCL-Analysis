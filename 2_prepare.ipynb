{
 "cells": [
  {
   "cell_type": "code",
   "execution_count": null,
   "metadata": {},
   "outputs": [],
   "source": [
    "# Imports\n",
    "import pandas as pd\n",
    "import numpy as np\n",
    "from datetime import datetime"
   ]
  },
  {
   "cell_type": "code",
   "execution_count": null,
   "metadata": {},
   "outputs": [],
   "source": [
    "# Define date to conduct the analysis with (default set to today, override if required)\n",
    "date=datetime.today().strftime('%Y.%m.%d')\n",
    "#date='2025.03.21'\n",
    "print('Data preparation started for date: '+date)\n",
    "\n",
    "# Read the data from the CSV files\n",
    "complianceData = pd.read_csv('compliance_'+date+'.csv')\n",
    "vendorData = pd.read_csv('vendors_'+date+'.csv')\n",
    "productData = pd.read_csv('products_'+date+'.csv')\n",
    "modelVersions = pd.read_csv('modelVersions_'+date+'.csv')\n",
    "\n",
    "# device Types from Matter-1.4-Device-Library-Specification.pdf\n",
    "device_Types = pd.read_csv('device_types.csv')"
   ]
  },
  {
   "cell_type": "code",
   "execution_count": null,
   "metadata": {},
   "outputs": [],
   "source": [
    "#Analyse creators of entries\n",
    "print('Vendor creatores: '+str(len(pd.unique(vendorData['creator']))))\n",
    "print('Compliance creators: '+str(len(pd.unique(complianceData['owner']))))\n",
    "print('Product creatores: '+str(len(pd.unique(productData['creator']))))\n",
    "print('ModelVersions creatores: '+str(len(pd.unique(modelVersions['creator']))))"
   ]
  },
  {
   "cell_type": "code",
   "execution_count": null,
   "metadata": {},
   "outputs": [],
   "source": [
    "# Analyse Vendors\n",
    "print(len(vendorData.index))\n",
    "percent_missing = vendorData.isnull().sum() * 100 / len(vendorData)\n",
    "missing_value_df = pd.DataFrame({'percent of missing values': round(percent_missing)})\n",
    "print(missing_value_df)\n",
    "\n",
    "vendors_without_certification = pd.merge(vendorData, complianceData, left_on='vendorID', right_on='vid', how='left')\n",
    "vendors_without_certification=vendors_without_certification[vendors_without_certification['pid'].isnull()]\n",
    "print('Vendors without certification: '+str(len(vendors_without_certification)))\n",
    "\n",
    "vendors_without_model = pd.merge(vendorData, productData, left_on='vendorID', right_on='vid', how='left')\n",
    "vendors_without_model=vendors_without_model[vendors_without_model['pid'].isnull()]\n",
    "print('Vendors without model: '+str(len(vendors_without_model)))\n"
   ]
  },
  {
   "cell_type": "code",
   "execution_count": null,
   "metadata": {},
   "outputs": [],
   "source": [
    "# Analyse DeviceModel\n",
    "print(len(productData.index))\n",
    "productData['nameMatchesLabel'] = np.where((productData['productName'] == productData['productLabel']) , productData['productName'], np.nan)\n",
    "\n",
    "percent_missing = productData.isnull().sum() * 100 / len(productData)\n",
    "missing_value_df = pd.DataFrame({'percent of missing values': round(percent_missing)})\n",
    "print(missing_value_df)"
   ]
  },
  {
   "cell_type": "code",
   "execution_count": null,
   "metadata": {},
   "outputs": [],
   "source": [
    "# Analyse DeviceModelVersion\n",
    "print(len(modelVersions.index))\n",
    "percent_missing = modelVersions.isnull().sum() * 100 / len(modelVersions)\n",
    "missing_value_df = pd.DataFrame({'percent of missing values': round(percent_missing)})\n",
    "print(missing_value_df)"
   ]
  },
  {
   "cell_type": "code",
   "execution_count": null,
   "metadata": {},
   "outputs": [],
   "source": [
    "# Analyse Compliance\n",
    "print(len(complianceData.index))\n",
    "percent_missing = complianceData.isnull().sum() * 100 / len(complianceData)\n",
    "missing_value_df = pd.DataFrame({'percent of missing values': round(percent_missing)})\n",
    "print(missing_value_df)\n",
    "\n",
    "# There might be multiple certified versions of a single device model. The next lines identify how many unique device models are certified.\n",
    "uniqueVendorIdAndProductId=pd.DataFrame()\n",
    "uniqueVendorIdAndProductId['vidPid']=complianceData['vid'].astype(str) + complianceData['pid'].astype(str)\n",
    "print('Unique certified vendor and product ids: '+str(len(uniqueVendorIdAndProductId['vidPid'].unique())))"
   ]
  },
  {
   "cell_type": "code",
   "execution_count": null,
   "metadata": {},
   "outputs": [],
   "source": [
    "#reduce Datasets\n",
    "vendorData = vendorData.drop(columns=['companyPreferredName', 'creator'])\n",
    "complianceData = complianceData.drop(columns=['reason',\t'owner', 'history', 'cDCertificateId', 'certificationRoute', 'programType', 'programTypeVersion', 'compliantPlatformUsed', 'compliantPlatformVersion', 'transport', 'familyId', 'supportedClusters', 'OSVersion', 'parentChild', 'certificationIdOfSoftwareComponent'])\n",
    "productData = productData.drop(columns=['commissioningModeInitialStepsInstruction', 'commissioningModeSecondaryStepsInstruction', 'lsfRevision', 'creator'])\n",
    "modelVersions = modelVersions.drop(columns=['cdVersionNumber', 'softwareVersionValid', 'otaFileSize', 'otaChecksum', 'otaChecksumType', 'creator'])\n"
   ]
  },
  {
   "cell_type": "code",
   "execution_count": null,
   "metadata": {},
   "outputs": [],
   "source": [
    "# Merge the data\n",
    "merged_df = pd.merge(productData, vendorData, left_on='vid', right_on='vendorID', how='left')\n",
    "# Create column Device Type ID Int as helper column for the datamerge\n",
    "device_Types['Device Type ID Int'] = device_Types['Device Type ID'].apply(lambda hex: int(hex,0))\n",
    "merged_df = pd.merge(merged_df, device_Types,  left_on='deviceTypeId', right_on='Device Type ID Int', how='left')\n",
    "#remove helper column\n",
    "merged_df = merged_df.drop(columns=['Device Type ID Int'])\n",
    "\n",
    "merged_compliance_df = pd.merge(complianceData, merged_df, left_on=['pid', 'vid'], right_on=['pid', 'vid'], how='left') \n",
    "\n",
    "# remove rows without matching device model\n",
    "merged_compliance_df_without_device_model = merged_compliance_df[merged_compliance_df['productName'].isnull()]\n",
    "merged_compliance_df = merged_compliance_df.drop(merged_compliance_df[merged_compliance_df['productName'].isnull()].index)\n",
    "print('Certification without matching device models removed from dataset: '+ str(len(merged_compliance_df_without_device_model)))\n",
    "\n",
    "# merge software model version data to the dataframe\n",
    "merged_compliance_version_df = pd.merge(merged_compliance_df, modelVersions, left_on=['pid', 'vid', 'softwareVersion'], right_on=['pid', 'vid', 'softwareVersion'], how='left') \n",
    "\n",
    "#prepare the secound dataframe (uncertified products)\n",
    "merged_df['vidPid']=merged_df['vid'].astype(str) + merged_df['pid'].astype(str)\n",
    "complianceData['vidPid']=complianceData['vid'].astype(str) + complianceData['pid'].astype(str)\n",
    "merged_df_uncertified = merged_df[~merged_df['vidPid'].isin(complianceData['vidPid'])]\n",
    "#merged_df_uncertified = merged_df_uncertified.drop(columns=['vidPid'])\n",
    "merged_df_uncertified = pd.merge(merged_df_uncertified, modelVersions, left_on=['pid', 'vid'], right_on=['pid', 'vid'], how='left') \n",
    "\n",
    "# Save Merged Data to CSV file\n",
    "merged_df_uncertified.to_csv('uncertified_devices_'+date+'.csv', index=False)\n",
    "merged_compliance_version_df.to_csv('certified_devices_'+date+'.csv', index=False)"
   ]
  }
 ],
 "metadata": {
  "kernelspec": {
   "display_name": "Python 3",
   "language": "python",
   "name": "python3"
  },
  "language_info": {
   "codemirror_mode": {
    "name": "ipython",
    "version": 3
   },
   "file_extension": ".py",
   "mimetype": "text/x-python",
   "name": "python",
   "nbconvert_exporter": "python",
   "pygments_lexer": "ipython3",
   "version": "3.10.11"
  }
 },
 "nbformat": 4,
 "nbformat_minor": 2
}

{
 "cells": [
  {
   "cell_type": "code",
   "execution_count": null,
   "metadata": {},
   "outputs": [],
   "source": [
    "# Imports\n",
    "import requests\n",
    "import pandas as pd\n",
    "import json\n",
    "from datetime import datetime\n",
    "import urllib.parse"
   ]
  },
  {
   "cell_type": "code",
   "execution_count": null,
   "metadata": {},
   "outputs": [],
   "source": [
    "# Define date to add it to the filename of the generated files\n",
    "date=datetime.today().strftime('%Y.%m.%d')\n",
    "print('Saving data files for date: '+date)"
   ]
  },
  {
   "cell_type": "code",
   "execution_count": null,
   "metadata": {},
   "outputs": [],
   "source": [
    "# Function to call the REST API\n",
    "def fetch_data_from_website(url):\n",
    "    response = requests.get(url)\n",
    "    if response.status_code == 200:\n",
    "        return response.text\n",
    "    elif response.status_code == 404:\n",
    "        print('No data found for Url: ' + url)\n",
    "        return None\n",
    "    else:\n",
    "        print('Failed to fetch data from the url: ' + url)\n",
    "        return None"
   ]
  },
  {
   "cell_type": "code",
   "execution_count": null,
   "metadata": {},
   "outputs": [],
   "source": [
    "# Read Data from CSA Distributed compliance Ledger (Vendors)\n",
    "url = 'https://on.dcl.csa-iot.org/dcl/vendorinfo/vendors?pagination.limit=10000'\n",
    "data = fetch_data_from_website(url)\n",
    "json_obj = json.loads(data)\n",
    "\n",
    "# Parse the fetched data and convert it into a list of rows\n",
    "df = pd.DataFrame(json_obj['vendorInfo'])\n",
    "\n",
    "# Save in the CSV file\n",
    "df.to_csv('vendors_'+date+'.csv', index=False)\n",
    "print('Data saved to vendors_'+date+'.csv')"
   ]
  },
  {
   "cell_type": "code",
   "execution_count": null,
   "metadata": {},
   "outputs": [],
   "source": [
    "# Read Data from CSA Distributed compliance Ledger (Models)\n",
    "url = 'https://on.dcl.csa-iot.org/dcl/model/models?pagination.limit=10000'\n",
    "response = fetch_data_from_website(url)\n",
    "json_obj = json.loads(response)\n",
    "\n",
    "# Parse the fetched data and convert it into a list of rows\n",
    "df = pd.DataFrame(json_obj['model'])\n",
    "\n",
    "# Save in the CSV file\n",
    "df.to_csv('products_'+date+'.csv', index=False)\n",
    "print('Data saved to products_'+date+'.csv')"
   ]
  },
  {
   "cell_type": "code",
   "execution_count": null,
   "metadata": {},
   "outputs": [],
   "source": [
    "# Read Data from CSA Distributed compliance Ledger (Model Software Information)\n",
    "#IDS: /VendorID/ProductID/Softwareversion\n",
    "url = 'https://on.dcl.csa-iot.org/dcl/model/versions/'\n",
    "productData = pd.read_csv('products_'+date+'.csv')\n",
    "df= pd.DataFrame()\n",
    "for index, product in productData.iterrows():\n",
    "    print(product['pid'])\n",
    "    response = fetch_data_from_website(url+str(product['vid'])+'/'+str(product['pid']))\n",
    "    if(response != None):\n",
    "        json_obj = json.loads(response)\n",
    "        for version in json_obj['modelVersions']['softwareVersions']:\n",
    "            response = fetch_data_from_website(url+str(product['vid'])+'/'+str(product['pid'])+'/'+str(version))\n",
    "            if(response != None):\n",
    "                json_obj = json.loads(response)\n",
    "                # Parse the fetched data and convert it into a rows and add it to a dataframe\n",
    "                df=pd.concat([df, pd.DataFrame([json_obj['modelVersion']])])\n",
    "            else:\n",
    "                print('Missing data for: '+str(product['vid'])+'/'+str(product['pid'])+'/'+str(version))\n",
    "\n",
    "df.to_csv('modelVersions_'+date+'.csv', index=False)\n",
    "print('Data saved to modelVersions_'+date+'.csv')"
   ]
  },
  {
   "cell_type": "code",
   "execution_count": null,
   "metadata": {},
   "outputs": [],
   "source": [
    "# Read Data from CSA Distributed compliance Ledger (Compliance)\n",
    "url = 'https://on.dcl.csa-iot.org/dcl/compliance/compliance-info'\n",
    "response = fetch_data_from_website(url)\n",
    "json_obj = json.loads(response)\n",
    "\n",
    "# Parse the fetched data and convert it into a list of rows\n",
    "df = pd.DataFrame(json_obj['complianceInfo'])\n",
    "\n",
    "while(json_obj['pagination']['next_key'] != None):\n",
    "    response = fetch_data_from_website(url+'?pagination.key='+urllib.parse.quote_plus(json_obj['pagination']['next_key']))\n",
    "    json_obj = json.loads(response)\n",
    "    \n",
    "    # Parse the fetched data and convert it into a list of rows\n",
    "    df2 = pd.DataFrame(json_obj['complianceInfo'])\n",
    "    df=pd.concat([df, df2])\n",
    "\n",
    "# Save in the CSV file\n",
    "df.to_csv('compliance_'+date+'.csv', index=False)\n",
    "print('Data saved to compliance_'+date+'.csv')"
   ]
  }
 ],
 "metadata": {
  "kernelspec": {
   "display_name": "Python 3",
   "language": "python",
   "name": "python3"
  },
  "language_info": {
   "codemirror_mode": {
    "name": "ipython",
    "version": 3
   },
   "file_extension": ".py",
   "mimetype": "text/x-python",
   "name": "python",
   "nbconvert_exporter": "python",
   "pygments_lexer": "ipython3",
   "version": "3.10.11"
  }
 },
 "nbformat": 4,
 "nbformat_minor": 2
}
